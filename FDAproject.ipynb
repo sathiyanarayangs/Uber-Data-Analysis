{
 "cells": [
  {
   "cell_type": "code",
   "execution_count": 2,
   "id": "b4d6751b",
   "metadata": {},
   "outputs": [],
   "source": [
    "import numpy as np \n",
    "import pandas as pd \n",
    "import matplotlib.pyplot as plt\n",
    "import seaborn as sns\n",
    "import networkx as nx"
   ]
  },
  {
   "cell_type": "markdown",
   "id": "c1ce403e",
   "metadata": {},
   "source": [
    "<h1>Reading the dataset and finding the size</h1>"
   ]
  },
  {
   "cell_type": "code",
   "execution_count": 3,
   "id": "6d679a1e",
   "metadata": {},
   "outputs": [],
   "source": [
    "uber_df = pd.read_csv(\"My Uber Drives - 2016.csv\")"
   ]
  },
  {
   "cell_type": "code",
   "execution_count": 4,
   "id": "f9baed19",
   "metadata": {},
   "outputs": [
    {
     "data": {
      "text/html": [
       "<div>\n",
       "<style scoped>\n",
       "    .dataframe tbody tr th:only-of-type {\n",
       "        vertical-align: middle;\n",
       "    }\n",
       "\n",
       "    .dataframe tbody tr th {\n",
       "        vertical-align: top;\n",
       "    }\n",
       "\n",
       "    .dataframe thead th {\n",
       "        text-align: right;\n",
       "    }\n",
       "</style>\n",
       "<table border=\"1\" class=\"dataframe\">\n",
       "  <thead>\n",
       "    <tr style=\"text-align: right;\">\n",
       "      <th></th>\n",
       "      <th>START_DATE*</th>\n",
       "      <th>END_DATE*</th>\n",
       "      <th>CATEGORY*</th>\n",
       "      <th>START*</th>\n",
       "      <th>STOP*</th>\n",
       "      <th>MILES*</th>\n",
       "      <th>PURPOSE*</th>\n",
       "    </tr>\n",
       "  </thead>\n",
       "  <tbody>\n",
       "    <tr>\n",
       "      <th>0</th>\n",
       "      <td>1/1/2016 21:11</td>\n",
       "      <td>1/1/2016 21:17</td>\n",
       "      <td>Business</td>\n",
       "      <td>Fort Pierce</td>\n",
       "      <td>Fort Pierce</td>\n",
       "      <td>5.1</td>\n",
       "      <td>Meal/Entertain</td>\n",
       "    </tr>\n",
       "    <tr>\n",
       "      <th>1</th>\n",
       "      <td>1/2/2016 1:25</td>\n",
       "      <td>1/2/2016 1:37</td>\n",
       "      <td>Business</td>\n",
       "      <td>Fort Pierce</td>\n",
       "      <td>Fort Pierce</td>\n",
       "      <td>5.0</td>\n",
       "      <td>NaN</td>\n",
       "    </tr>\n",
       "    <tr>\n",
       "      <th>2</th>\n",
       "      <td>1/2/2016 20:25</td>\n",
       "      <td>1/2/2016 20:38</td>\n",
       "      <td>Business</td>\n",
       "      <td>Fort Pierce</td>\n",
       "      <td>Fort Pierce</td>\n",
       "      <td>4.8</td>\n",
       "      <td>Errand/Supplies</td>\n",
       "    </tr>\n",
       "    <tr>\n",
       "      <th>3</th>\n",
       "      <td>1/5/2016 17:31</td>\n",
       "      <td>1/5/2016 17:45</td>\n",
       "      <td>Business</td>\n",
       "      <td>Fort Pierce</td>\n",
       "      <td>Fort Pierce</td>\n",
       "      <td>4.7</td>\n",
       "      <td>Meeting</td>\n",
       "    </tr>\n",
       "    <tr>\n",
       "      <th>4</th>\n",
       "      <td>1/6/2016 14:42</td>\n",
       "      <td>1/6/2016 15:49</td>\n",
       "      <td>Business</td>\n",
       "      <td>Fort Pierce</td>\n",
       "      <td>West Palm Beach</td>\n",
       "      <td>63.7</td>\n",
       "      <td>Customer Visit</td>\n",
       "    </tr>\n",
       "  </tbody>\n",
       "</table>\n",
       "</div>"
      ],
      "text/plain": [
       "      START_DATE*       END_DATE* CATEGORY*       START*            STOP*  \\\n",
       "0  1/1/2016 21:11  1/1/2016 21:17  Business  Fort Pierce      Fort Pierce   \n",
       "1   1/2/2016 1:25   1/2/2016 1:37  Business  Fort Pierce      Fort Pierce   \n",
       "2  1/2/2016 20:25  1/2/2016 20:38  Business  Fort Pierce      Fort Pierce   \n",
       "3  1/5/2016 17:31  1/5/2016 17:45  Business  Fort Pierce      Fort Pierce   \n",
       "4  1/6/2016 14:42  1/6/2016 15:49  Business  Fort Pierce  West Palm Beach   \n",
       "\n",
       "   MILES*         PURPOSE*  \n",
       "0     5.1   Meal/Entertain  \n",
       "1     5.0              NaN  \n",
       "2     4.8  Errand/Supplies  \n",
       "3     4.7          Meeting  \n",
       "4    63.7   Customer Visit  "
      ]
     },
     "execution_count": 4,
     "metadata": {},
     "output_type": "execute_result"
    }
   ],
   "source": [
    "# First 5 records \n",
    "uber_df.head()"
   ]
  },
  {
   "cell_type": "code",
   "execution_count": 5,
   "id": "b90269c8",
   "metadata": {},
   "outputs": [
    {
     "data": {
      "text/html": [
       "<div>\n",
       "<style scoped>\n",
       "    .dataframe tbody tr th:only-of-type {\n",
       "        vertical-align: middle;\n",
       "    }\n",
       "\n",
       "    .dataframe tbody tr th {\n",
       "        vertical-align: top;\n",
       "    }\n",
       "\n",
       "    .dataframe thead th {\n",
       "        text-align: right;\n",
       "    }\n",
       "</style>\n",
       "<table border=\"1\" class=\"dataframe\">\n",
       "  <thead>\n",
       "    <tr style=\"text-align: right;\">\n",
       "      <th></th>\n",
       "      <th>START_DATE*</th>\n",
       "      <th>END_DATE*</th>\n",
       "      <th>CATEGORY*</th>\n",
       "      <th>START*</th>\n",
       "      <th>STOP*</th>\n",
       "      <th>MILES*</th>\n",
       "      <th>PURPOSE*</th>\n",
       "    </tr>\n",
       "  </thead>\n",
       "  <tbody>\n",
       "    <tr>\n",
       "      <th>1151</th>\n",
       "      <td>12/31/2016 13:24</td>\n",
       "      <td>12/31/2016 13:42</td>\n",
       "      <td>Business</td>\n",
       "      <td>Kar?chi</td>\n",
       "      <td>Unknown Location</td>\n",
       "      <td>3.9</td>\n",
       "      <td>Temporary Site</td>\n",
       "    </tr>\n",
       "    <tr>\n",
       "      <th>1152</th>\n",
       "      <td>12/31/2016 15:03</td>\n",
       "      <td>12/31/2016 15:38</td>\n",
       "      <td>Business</td>\n",
       "      <td>Unknown Location</td>\n",
       "      <td>Unknown Location</td>\n",
       "      <td>16.2</td>\n",
       "      <td>Meeting</td>\n",
       "    </tr>\n",
       "    <tr>\n",
       "      <th>1153</th>\n",
       "      <td>12/31/2016 21:32</td>\n",
       "      <td>12/31/2016 21:50</td>\n",
       "      <td>Business</td>\n",
       "      <td>Katunayake</td>\n",
       "      <td>Gampaha</td>\n",
       "      <td>6.4</td>\n",
       "      <td>Temporary Site</td>\n",
       "    </tr>\n",
       "    <tr>\n",
       "      <th>1154</th>\n",
       "      <td>12/31/2016 22:08</td>\n",
       "      <td>12/31/2016 23:51</td>\n",
       "      <td>Business</td>\n",
       "      <td>Gampaha</td>\n",
       "      <td>Ilukwatta</td>\n",
       "      <td>48.2</td>\n",
       "      <td>Temporary Site</td>\n",
       "    </tr>\n",
       "    <tr>\n",
       "      <th>1155</th>\n",
       "      <td>Totals</td>\n",
       "      <td>NaN</td>\n",
       "      <td>NaN</td>\n",
       "      <td>NaN</td>\n",
       "      <td>NaN</td>\n",
       "      <td>12204.7</td>\n",
       "      <td>NaN</td>\n",
       "    </tr>\n",
       "  </tbody>\n",
       "</table>\n",
       "</div>"
      ],
      "text/plain": [
       "           START_DATE*         END_DATE* CATEGORY*            START*  \\\n",
       "1151  12/31/2016 13:24  12/31/2016 13:42  Business           Kar?chi   \n",
       "1152  12/31/2016 15:03  12/31/2016 15:38  Business  Unknown Location   \n",
       "1153  12/31/2016 21:32  12/31/2016 21:50  Business        Katunayake   \n",
       "1154  12/31/2016 22:08  12/31/2016 23:51  Business           Gampaha   \n",
       "1155            Totals               NaN       NaN               NaN   \n",
       "\n",
       "                 STOP*   MILES*        PURPOSE*  \n",
       "1151  Unknown Location      3.9  Temporary Site  \n",
       "1152  Unknown Location     16.2         Meeting  \n",
       "1153           Gampaha      6.4  Temporary Site  \n",
       "1154         Ilukwatta     48.2  Temporary Site  \n",
       "1155               NaN  12204.7             NaN  "
      ]
     },
     "execution_count": 5,
     "metadata": {},
     "output_type": "execute_result"
    }
   ],
   "source": [
    "# Last 5 records \n",
    "uber_df.tail()"
   ]
  },
  {
   "cell_type": "code",
   "execution_count": 6,
   "id": "f9d71c41",
   "metadata": {},
   "outputs": [
    {
     "name": "stdout",
     "output_type": "stream",
     "text": [
      "(1156, 7)\n",
      "8092\n"
     ]
    }
   ],
   "source": [
    "# The  shape and size of data \n",
    "print(uber_df.shape)\n",
    "print (uber_df.size)"
   ]
  },
  {
   "cell_type": "markdown",
   "id": "42a0c7db",
   "metadata": {},
   "source": [
    "<h1>Identifying the data types of columns</h1>"
   ]
  },
  {
   "cell_type": "code",
   "execution_count": 7,
   "id": "3aa8c11d",
   "metadata": {},
   "outputs": [
    {
     "data": {
      "text/plain": [
       "Index(['START_DATE*', 'END_DATE*', 'CATEGORY*', 'START*', 'STOP*', 'MILES*',\n",
       "       'PURPOSE*'],\n",
       "      dtype='object')"
      ]
     },
     "execution_count": 7,
     "metadata": {},
     "output_type": "execute_result"
    }
   ],
   "source": [
    "# Columns names \n",
    "uber_df.columns"
   ]
  },
  {
   "cell_type": "code",
   "execution_count": 8,
   "id": "f1ee9d0b",
   "metadata": {},
   "outputs": [
    {
     "name": "stdout",
     "output_type": "stream",
     "text": [
      "['Business' 'Personal' nan]\n"
     ]
    }
   ],
   "source": [
    "print(uber_df['CATEGORY*'].unique())"
   ]
  },
  {
   "cell_type": "code",
   "execution_count": 9,
   "id": "40158a4a",
   "metadata": {},
   "outputs": [
    {
     "name": "stdout",
     "output_type": "stream",
     "text": [
      "['Meal/Entertain' nan 'Errand/Supplies' 'Meeting' 'Customer Visit'\n",
      " 'Temporary Site' 'Between Offices' 'Charity ($)' 'Commute' 'Moving'\n",
      " 'Airport/Travel']\n"
     ]
    }
   ],
   "source": [
    "print(uber_df['PURPOSE*'].unique())"
   ]
  },
  {
   "cell_type": "code",
   "execution_count": 10,
   "id": "dbfbff01",
   "metadata": {},
   "outputs": [
    {
     "data": {
      "text/plain": [
       "START_DATE*     object\n",
       "END_DATE*       object\n",
       "CATEGORY*       object\n",
       "START*          object\n",
       "STOP*           object\n",
       "MILES*         float64\n",
       "PURPOSE*        object\n",
       "dtype: object"
      ]
     },
     "execution_count": 10,
     "metadata": {},
     "output_type": "execute_result"
    }
   ],
   "source": [
    "# Data  type of the columns \n",
    "\n",
    "uber_df.dtypes"
   ]
  },
  {
   "cell_type": "markdown",
   "id": "37e2e468",
   "metadata": {},
   "source": [
    "**The dataset has 1 numerical variable and 6 categorical variables**"
   ]
  },
  {
   "cell_type": "markdown",
   "id": "db215c93",
   "metadata": {},
   "source": [
    "<h1>Data Cleaning</h1>"
   ]
  },
  {
   "cell_type": "code",
   "execution_count": 11,
   "id": "20b84e21",
   "metadata": {},
   "outputs": [
    {
     "data": {
      "text/plain": [
       "START_DATE*    False\n",
       "END_DATE*       True\n",
       "CATEGORY*       True\n",
       "START*          True\n",
       "STOP*           True\n",
       "MILES*         False\n",
       "PURPOSE*        True\n",
       "dtype: bool"
      ]
     },
     "execution_count": 11,
     "metadata": {},
     "output_type": "execute_result"
    }
   ],
   "source": [
    "# Check the missing values \n",
    "uber_df.isnull().any()"
   ]
  },
  {
   "cell_type": "code",
   "execution_count": 12,
   "id": "5980c057",
   "metadata": {},
   "outputs": [
    {
     "data": {
      "text/plain": [
       "START_DATE*      0\n",
       "END_DATE*        1\n",
       "CATEGORY*        1\n",
       "START*           1\n",
       "STOP*            1\n",
       "MILES*           0\n",
       "PURPOSE*       503\n",
       "dtype: int64"
      ]
     },
     "execution_count": 12,
     "metadata": {},
     "output_type": "execute_result"
    }
   ],
   "source": [
    "#Get the number of missing values in each column\n",
    "uber_df.isnull().sum()"
   ]
  },
  {
   "cell_type": "code",
   "execution_count": 13,
   "id": "2b00e631",
   "metadata": {},
   "outputs": [
    {
     "data": {
      "text/html": [
       "<div>\n",
       "<style scoped>\n",
       "    .dataframe tbody tr th:only-of-type {\n",
       "        vertical-align: middle;\n",
       "    }\n",
       "\n",
       "    .dataframe tbody tr th {\n",
       "        vertical-align: top;\n",
       "    }\n",
       "\n",
       "    .dataframe thead th {\n",
       "        text-align: right;\n",
       "    }\n",
       "</style>\n",
       "<table border=\"1\" class=\"dataframe\">\n",
       "  <thead>\n",
       "    <tr style=\"text-align: right;\">\n",
       "      <th></th>\n",
       "      <th>START_DATE*</th>\n",
       "      <th>END_DATE*</th>\n",
       "      <th>CATEGORY*</th>\n",
       "      <th>START*</th>\n",
       "      <th>STOP*</th>\n",
       "      <th>MILES*</th>\n",
       "      <th>PURPOSE*</th>\n",
       "    </tr>\n",
       "  </thead>\n",
       "  <tbody>\n",
       "    <tr>\n",
       "      <th>492</th>\n",
       "      <td>6/28/2016 23:34</td>\n",
       "      <td>6/28/2016 23:59</td>\n",
       "      <td>Business</td>\n",
       "      <td>Durham</td>\n",
       "      <td>Cary</td>\n",
       "      <td>9.9</td>\n",
       "      <td>Meeting</td>\n",
       "    </tr>\n",
       "  </tbody>\n",
       "</table>\n",
       "</div>"
      ],
      "text/plain": [
       "         START_DATE*        END_DATE* CATEGORY*  START* STOP*  MILES* PURPOSE*\n",
       "492  6/28/2016 23:34  6/28/2016 23:59  Business  Durham  Cary     9.9  Meeting"
      ]
     },
     "execution_count": 13,
     "metadata": {},
     "output_type": "execute_result"
    }
   ],
   "source": [
    "#Duplicated Records needs to be removed \n",
    "\n",
    "uber_df[uber_df.duplicated()]"
   ]
  },
  {
   "cell_type": "code",
   "execution_count": 14,
   "id": "62f08b44",
   "metadata": {},
   "outputs": [
    {
     "data": {
      "text/plain": [
       "(653, 7)"
      ]
     },
     "execution_count": 14,
     "metadata": {},
     "output_type": "execute_result"
    }
   ],
   "source": [
    "# Dropping the duplicates values \n",
    "\n",
    "uber_df.drop_duplicates()\n",
    "\n",
    "# Get the initial data with dropping the NA values\n",
    "uber_df = uber_df.dropna()\n",
    "\n",
    "#Get the shape of the dataframe after removing the null values\n",
    "uber_df.shape"
   ]
  },
  {
   "cell_type": "markdown",
   "id": "2064532f",
   "metadata": {},
   "source": [
    "The dataset now contains 653 rows of non null values"
   ]
  },
  {
   "cell_type": "markdown",
   "id": "fdd9abf4",
   "metadata": {},
   "source": [
    "<h3>Summary Stats</h3>"
   ]
  },
  {
   "cell_type": "code",
   "execution_count": 15,
   "id": "9ef77125",
   "metadata": {},
   "outputs": [
    {
     "data": {
      "text/html": [
       "<div>\n",
       "<style scoped>\n",
       "    .dataframe tbody tr th:only-of-type {\n",
       "        vertical-align: middle;\n",
       "    }\n",
       "\n",
       "    .dataframe tbody tr th {\n",
       "        vertical-align: top;\n",
       "    }\n",
       "\n",
       "    .dataframe thead th {\n",
       "        text-align: right;\n",
       "    }\n",
       "</style>\n",
       "<table border=\"1\" class=\"dataframe\">\n",
       "  <thead>\n",
       "    <tr style=\"text-align: right;\">\n",
       "      <th></th>\n",
       "      <th>count</th>\n",
       "      <th>mean</th>\n",
       "      <th>std</th>\n",
       "      <th>min</th>\n",
       "      <th>25%</th>\n",
       "      <th>50%</th>\n",
       "      <th>75%</th>\n",
       "      <th>max</th>\n",
       "    </tr>\n",
       "  </thead>\n",
       "  <tbody>\n",
       "    <tr>\n",
       "      <th>MILES*</th>\n",
       "      <td>653.0</td>\n",
       "      <td>11.196325</td>\n",
       "      <td>22.986429</td>\n",
       "      <td>0.5</td>\n",
       "      <td>3.2</td>\n",
       "      <td>6.4</td>\n",
       "      <td>10.4</td>\n",
       "      <td>310.3</td>\n",
       "    </tr>\n",
       "  </tbody>\n",
       "</table>\n",
       "</div>"
      ],
      "text/plain": [
       "        count       mean        std  min  25%  50%   75%    max\n",
       "MILES*  653.0  11.196325  22.986429  0.5  3.2  6.4  10.4  310.3"
      ]
     },
     "execution_count": 15,
     "metadata": {},
     "output_type": "execute_result"
    }
   ],
   "source": [
    "#get the summary of data\n",
    "uber_df.describe().T"
   ]
  },
  {
   "cell_type": "markdown",
   "id": "b16a44ef",
   "metadata": {},
   "source": [
    "<ul>\n",
    "<li>This miles column is rightly skewed( as we have mean > median)</li>\n",
    "<li>The ride ranges from 0.5 miles 310.3 miles</li>\n",
    "<ul>"
   ]
  },
  {
   "cell_type": "code",
   "execution_count": 16,
   "id": "9cb4656a",
   "metadata": {},
   "outputs": [
    {
     "name": "stdout",
     "output_type": "stream",
     "text": [
      "['Fort Pierce' 'West Palm Beach' 'Cary' 'Jamaica' 'New York' 'Elmhurst'\n",
      " 'Midtown' 'East Harlem' 'Flatiron District' 'Midtown East'\n",
      " 'Hudson Square' 'Lower Manhattan' \"Hell's Kitchen\" 'Downtown' 'Gulfton'\n",
      " 'Houston' 'Eagan Park' 'Morrisville' 'Durham' 'Farmington Woods'\n",
      " 'Lake Wellingborough' 'Fayetteville Street' 'Raleigh' 'Whitebridge'\n",
      " 'Hazelwood' 'Fairmont' 'Meredith Townes' 'Apex' 'Chapel Hill'\n",
      " 'Northwoods' 'Edgehill Farms' 'Eastgate' 'East Elmhurst'\n",
      " 'Long Island City' 'Katunayaka' 'Colombo' 'Nugegoda' 'Unknown Location'\n",
      " 'Islamabad' 'R?walpindi' 'Noorpur Shahan' 'Preston' 'Heritage Pines'\n",
      " 'Tanglewood' 'Waverly Place' 'Wayne Ridge' 'Westpark Place' 'East Austin'\n",
      " 'The Drag' 'South Congress' 'Georgian Acres' 'North Austin'\n",
      " 'West University' 'Austin' 'Katy' 'Sharpstown' 'Sugar Land' 'Galveston'\n",
      " 'Port Bolivar' 'Washington Avenue' 'Briar Meadow' 'Latta' 'Jacksonville'\n",
      " 'Lake Reams' 'Orlando' 'Kissimmee' 'Daytona Beach' 'Ridgeland' 'Florence'\n",
      " 'Meredith' 'Holly Springs' 'Chessington' 'Burtrose' 'Parkway' 'Mcvan'\n",
      " 'Capitol One' 'University District' 'Seattle' 'Redmond' 'Bellevue'\n",
      " 'San Francisco' 'Palo Alto' 'Sunnyvale' 'Newark' 'Menlo Park' 'Old City'\n",
      " 'Savon Height' 'Kilarney Woods' 'Townes at Everett Crossing'\n",
      " 'Huntington Woods' 'Weston' 'Seaport' 'Medical Centre' 'Rose Hill' 'Soho'\n",
      " 'Tribeca' 'Financial District' 'Oakland' 'Emeryville' 'Berkeley' 'Kenner'\n",
      " 'CBD' 'Lower Garden District' 'Storyville' 'New Orleans' 'Chalmette'\n",
      " 'Arabi' 'Pontchartrain Shores' 'Metairie' 'Summerwinds' 'Parkwood'\n",
      " 'Banner Elk' 'Boone' 'Stonewater' 'Lexington Park at Amberly'\n",
      " 'Winston Salem' 'Asheville' 'Topton' 'Renaissance' 'Santa Clara'\n",
      " 'Ingleside' 'West Berkeley' 'Mountain View' 'El Cerrito' 'Krendle Woods'\n",
      " 'Fuquay-Varina' 'Rawalpindi' 'Lahore' 'Kar?chi' 'Katunayake' 'Gampaha']\n",
      "131\n"
     ]
    }
   ],
   "source": [
    "# Get the starting destination, unique destination\n",
    "print(uber_df['START*'].unique()) #names of unique start points\n",
    "print(len(uber_df['START*'].unique())) #count of unique start points"
   ]
  },
  {
   "cell_type": "markdown",
   "id": "51c71ea6",
   "metadata": {},
   "source": [
    "There are 131 unique starting points in the dataset"
   ]
  },
  {
   "cell_type": "code",
   "execution_count": 17,
   "id": "664b618d",
   "metadata": {},
   "outputs": [
    {
     "name": "stdout",
     "output_type": "stream",
     "text": [
      "['Fort Pierce' 'West Palm Beach' 'Palm Beach' 'Cary' 'Morrisville'\n",
      " 'New York' 'Queens' 'East Harlem' 'NoMad' 'Midtown' 'Midtown East'\n",
      " 'Hudson Square' 'Lower Manhattan' \"Hell's Kitchen\" 'Queens County'\n",
      " 'Gulfton' 'Downtown' 'Houston' 'Jamestown Court' 'Durham' 'Whitebridge'\n",
      " 'Raleigh' 'Umstead' 'Hazelwood' 'Westpark Place' 'Meredith Townes'\n",
      " 'Leesville Hollow' 'Apex' 'Chapel Hill' 'Williamsburg Manor'\n",
      " 'Macgregor Downs' 'Edgehill Farms' 'Walnut Terrace' 'Midtown West'\n",
      " 'Long Island City' 'Jamaica' 'Unknown Location' 'Colombo' 'Nugegoda'\n",
      " 'Katunayaka' 'Islamabad' 'R?walpindi' 'Noorpur Shahan' 'Heritage Pines'\n",
      " 'Tanglewood' 'Waverly Place' 'Wayne Ridge' 'Northwoods'\n",
      " 'Depot Historic District' 'West University' 'Congress Ave District'\n",
      " 'Convention Center District' 'North Austin' 'The Drag' 'Coxville'\n",
      " 'South Congress' 'Katy' 'Alief' 'Sharpstown' 'Sugar Land' 'Galveston'\n",
      " 'Port Bolivar' 'Washington Avenue' 'Greater Greenspoint' 'Latta'\n",
      " 'Jacksonville' 'Kissimmee' 'Lake Reams' 'Orlando' 'Daytona Beach'\n",
      " 'Ridgeland' 'Florence' 'Cedar Hill' 'Holly Springs' 'Harden Place'\n",
      " 'Chessington' 'Burtrose' 'Parkway' 'Capitol One' 'University District'\n",
      " 'Redmond' 'Bellevue' 'Seattle' 'Mcvan' 'Palo Alto' 'Sunnyvale' 'Newark'\n",
      " 'Menlo Park' 'San Francisco' 'Preston' 'Parkway Museums' 'Hog Island'\n",
      " 'Savon Height' 'Kildaire Farms' 'Weston' 'Gramercy-Flatiron' 'Tudor City'\n",
      " 'Soho' 'Tribeca' 'Financial District' 'Kips Bay' 'Emeryville' 'Berkeley'\n",
      " 'Oakland' 'Bay Farm Island' 'New Orleans' 'Lower Garden District'\n",
      " 'Lakeview' 'Faubourg Marigny' 'Chalmette' 'Arabi' 'Metairie'\n",
      " 'Pontchartrain Shores' 'Kenner' 'Summerwinds' 'Parkwood' 'Banner Elk'\n",
      " 'Boone' 'Stonewater' 'Lexington Park at Amberly' 'Winston Salem'\n",
      " 'Asheville' 'Topton' 'Hayesville' 'Agnew' 'Potrero Flats' 'South'\n",
      " 'Southside' 'Mountain View' 'El Cerrito' 'Wake Co.' 'Fuquay-Varina'\n",
      " 'Rawalpindi' 'Lahore' 'Kar?chi' 'Gampaha' 'Ilukwatta']\n",
      "137\n"
     ]
    }
   ],
   "source": [
    "# Get the starting destination, unique destination\n",
    "print(uber_df['STOP*'].unique()) #names of unique start points\n",
    "print(len(uber_df['STOP*'].unique())) #count of unique start points"
   ]
  },
  {
   "cell_type": "markdown",
   "id": "ee02c02e",
   "metadata": {},
   "source": [
    "There are 137 unique destinations in the datset"
   ]
  },
  {
   "cell_type": "code",
   "execution_count": 18,
   "id": "83a29df9",
   "metadata": {},
   "outputs": [
    {
     "data": {
      "text/plain": [
       "Cary                161\n",
       "Unknown Location     55\n",
       "Morrisville          54\n",
       "Whitebridge          36\n",
       "Durham               30\n",
       "Kar?chi              26\n",
       "Raleigh              21\n",
       "Lahore               19\n",
       "Islamabad            15\n",
       "Apex                 11\n",
       "Name: START*, dtype: int64"
      ]
     },
     "execution_count": 18,
     "metadata": {},
     "output_type": "execute_result"
    }
   ],
   "source": [
    "#Identify popular start destinations - top 10\n",
    "uber_df['START*'].value_counts().head(10)"
   ]
  },
  {
   "cell_type": "code",
   "execution_count": 19,
   "id": "af0d1871",
   "metadata": {},
   "outputs": [
    {
     "data": {
      "image/png": "[encoded data removed]",
      "text/plain": [
       "<Figure size 1080x720 with 1 Axes>"
      ]
     },
     "metadata": {
      "needs_background": "light"
     },
     "output_type": "display_data"
    }
   ],
   "source": [
    "plt.figure(figsize=(15,10))\n",
    "sns.countplot(y=\"START*\",order= pd.value_counts(uber_df['START*']).iloc[:10].index, data=uber_df)\n",
    "plt.show()"
   ]
  },
  {
   "cell_type": "code",
   "execution_count": 20,
   "id": "3eb126d6",
   "metadata": {},
   "outputs": [
    {
     "name": "stdout",
     "output_type": "stream",
     "text": [
      "           START_DATE*         END_DATE* CATEGORY*           START*  \\\n",
      "0       1/1/2016 21:11    1/1/2016 21:17  Business      Fort Pierce   \n",
      "2       1/2/2016 20:25    1/2/2016 20:38  Business      Fort Pierce   \n",
      "3       1/5/2016 17:31    1/5/2016 17:45  Business      Fort Pierce   \n",
      "4       1/6/2016 14:42    1/6/2016 15:49  Business      Fort Pierce   \n",
      "5       1/6/2016 17:15    1/6/2016 17:19  Business  West Palm Beach   \n",
      "...                ...               ...       ...              ...   \n",
      "1148  12/30/2016 16:45  12/30/2016 17:08  Business          Kar?chi   \n",
      "1149  12/30/2016 23:06  12/30/2016 23:10  Business          Kar?chi   \n",
      "1150   12/31/2016 1:07   12/31/2016 1:14  Business          Kar?chi   \n",
      "1153  12/31/2016 21:32  12/31/2016 21:50  Business       Katunayake   \n",
      "1154  12/31/2016 22:08  12/31/2016 23:51  Business          Gampaha   \n",
      "\n",
      "                STOP*  MILES*         PURPOSE*  \n",
      "0         Fort Pierce     5.1   Meal/Entertain  \n",
      "2         Fort Pierce     4.8  Errand/Supplies  \n",
      "3         Fort Pierce     4.7          Meeting  \n",
      "4     West Palm Beach    63.7   Customer Visit  \n",
      "5     West Palm Beach     4.3   Meal/Entertain  \n",
      "...               ...     ...              ...  \n",
      "1148          Kar?chi     4.6          Meeting  \n",
      "1149          Kar?chi     0.8   Customer Visit  \n",
      "1150          Kar?chi     0.7          Meeting  \n",
      "1153          Gampaha     6.4   Temporary Site  \n",
      "1154        Ilukwatta    48.2   Temporary Site  \n",
      "\n",
      "[572 rows x 7 columns]\n"
     ]
    }
   ],
   "source": [
    "uber_df2 = uber_df[uber_df['START*']!= 'Unknown Location']\n",
    "uber_df2 = uber_df2[uber_df2['STOP*']!= 'Unknown Location']\n",
    "\n",
    "print(uber_df2)\n"
   ]
  },
  {
   "cell_type": "code",
   "execution_count": 21,
   "id": "8e22c620",
   "metadata": {},
   "outputs": [
    {
     "data": {
      "text/plain": [
       "START*        STOP*       \n",
       "Cary          Durham          312.3\n",
       "Latta         Jacksonville    310.3\n",
       "Durham        Cary            298.4\n",
       "Cary          Morrisville     293.7\n",
       "Raleigh       Cary            269.5\n",
       "Morrisville   Cary            250.6\n",
       "Cary          Cary            233.9\n",
       "              Raleigh         230.4\n",
       "Jacksonville  Kissimmee       201.0\n",
       "Boone         Cary            180.2\n",
       "Name: MILES*, dtype: float64"
      ]
     },
     "execution_count": 21,
     "metadata": {},
     "output_type": "execute_result"
    }
   ],
   "source": [
    "uber_df2.groupby(['START*','STOP*'])['MILES*'].sum().sort_values(ascending=False).head(10)"
   ]
  },
  {
   "cell_type": "code",
   "execution_count": 23,
   "id": "6d4873e7",
   "metadata": {},
   "outputs": [
    {
     "name": "stderr",
     "output_type": "stream",
     "text": [
      "F:\\Program Files\\anaconda\\lib\\site-packages\\seaborn\\_decorators.py:36: FutureWarning: Pass the following variable as a keyword arg: x. From version 0.12, the only valid positional argument will be `data`, and passing other arguments without an explicit keyword will result in an error or misinterpretation.\n",
      "  warnings.warn(\n"
     ]
    },
    {
     "data": {
      "image/png": "[encoded data removed]",
      "text/plain": [
       "<Figure size 576x360 with 1 Axes>"
      ]
     },
     "metadata": {
      "needs_background": "light"
     },
     "output_type": "display_data"
    }
   ],
   "source": [
    "plt.figure(figsize=(8,5))\n",
    "def round(x):\n",
    "    if x['START*'] == x['STOP*']:\n",
    "        return 'YES'\n",
    "    else:\n",
    "        return 'NO'\n",
    "    \n",
    "uber_df['ROUND_TRIP*'] = uber_df.apply(round, axis=1)\n",
    "\n",
    "sns.countplot(uber_df['ROUND_TRIP*'], order=uber_df['ROUND_TRIP*'].value_counts().index, palette='viridis')\n",
    "plt.show()\n"
   ]
  },
  {
   "cell_type": "code",
   "execution_count": 24,
   "id": "b9305631",
   "metadata": {},
   "outputs": [
    {
     "name": "stderr",
     "output_type": "stream",
     "text": [
      "C:\\Users\\SANTHOSH RAM\\AppData\\Local\\Temp\\ipykernel_24508\\2071733677.py:3: FutureWarning: The pandas.datetime class is deprecated and will be removed from pandas in a future version. Import from datetime module instead.\n",
      "  uber_df.loc[:, 'START_DATE*'] = uber_df['START_DATE*'].apply(lambda x: pd.datetime.strptime(x, '%m/%d/%Y %H:%M'))\n",
      "C:\\Users\\SANTHOSH RAM\\AppData\\Local\\Temp\\ipykernel_24508\\2071733677.py:4: FutureWarning: The pandas.datetime class is deprecated and will be removed from pandas in a future version. Import from datetime module instead.\n",
      "  uber_df.loc[:, 'END_DATE*'] = uber_df['END_DATE*'].apply(lambda x: pd.datetime.strptime(x, '%m/%d/%Y %H:%M'))\n"
     ]
    }
   ],
   "source": [
    "# Convert the START DATE and END_DATE in string format to datetime object\n",
    "\n",
    "uber_df.loc[:, 'START_DATE*'] = uber_df['START_DATE*'].apply(lambda x: pd.datetime.strptime(x, '%m/%d/%Y %H:%M'))\n",
    "uber_df.loc[:, 'END_DATE*'] = uber_df['END_DATE*'].apply(lambda x: pd.datetime.strptime(x, '%m/%d/%Y %H:%M'))"
   ]
  },
  {
   "cell_type": "code",
   "execution_count": 25,
   "id": "574150fe",
   "metadata": {},
   "outputs": [],
   "source": [
    "#Calculate the duration for the rides\n",
    "uber_df['DIFF'] = uber_df['END_DATE*'] - uber_df['START_DATE*']"
   ]
  },
  {
   "cell_type": "code",
   "execution_count": 26,
   "id": "f3b820e7",
   "metadata": {},
   "outputs": [],
   "source": [
    "#convert duration to numbers(minutes)\n",
    "uber_df.loc[:, 'DIFF'] = uber_df['DIFF'].apply(lambda x: pd.Timedelta.to_pytimedelta(x).days/(24*60) + pd.Timedelta.to_pytimedelta(x).seconds/60)"
   ]
  },
  {
   "cell_type": "code",
   "execution_count": 27,
   "id": "5843638c",
   "metadata": {},
   "outputs": [
    {
     "data": {
      "text/plain": [
       "0     6.0\n",
       "2    13.0\n",
       "3    14.0\n",
       "4    67.0\n",
       "5     4.0\n",
       "Name: DIFF, dtype: float64"
      ]
     },
     "execution_count": 27,
     "metadata": {},
     "output_type": "execute_result"
    }
   ],
   "source": [
    "uber_df['DIFF'].head()"
   ]
  },
  {
   "cell_type": "code",
   "execution_count": 28,
   "id": "50931070",
   "metadata": {},
   "outputs": [
    {
     "data": {
      "text/plain": [
       "count    653.000000\n",
       "mean      23.398162\n",
       "std       25.769640\n",
       "min        2.000000\n",
       "25%       11.000000\n",
       "50%       18.000000\n",
       "75%       28.000000\n",
       "max      330.000000\n",
       "Name: DIFF, dtype: float64"
      ]
     },
     "execution_count": 28,
     "metadata": {},
     "output_type": "execute_result"
    }
   ],
   "source": [
    "uber_df['DIFF'].describe()"
   ]
  },
  {
   "cell_type": "code",
   "execution_count": 29,
   "id": "fdf4e621",
   "metadata": {},
   "outputs": [],
   "source": [
    "#Capture Hour, Day, Month and Year of Ride in a separate column\n",
    "uber_df['month'] = pd.to_datetime(uber_df['START_DATE*']).dt.month\n",
    "uber_df['Year'] = pd.to_datetime(uber_df['START_DATE*']).dt.year\n",
    "uber_df['Day'] = pd.to_datetime(uber_df['START_DATE*']).dt.day\n",
    "uber_df['Hour'] = pd.to_datetime(uber_df['START_DATE*']).dt.hour"
   ]
  },
  {
   "cell_type": "code",
   "execution_count": 30,
   "id": "ea23aa74",
   "metadata": {},
   "outputs": [],
   "source": [
    "#Capture day of week and rename to weekday names\n",
    "uber_df['day_of_week'] = pd.to_datetime(uber_df['START_DATE*']).dt.dayofweek\n",
    "days = {0:'Mon',1:'Tue',2:'Wed',3:'Thur',4:'Fri',5:'Sat',6:'Sun'}\n",
    "\n",
    "uber_df['day_of_week'] = uber_df['day_of_week'].apply(lambda x: days[x])"
   ]
  },
  {
   "cell_type": "code",
   "execution_count": 31,
   "id": "ba32f2c2",
   "metadata": {},
   "outputs": [
    {
     "data": {
      "text/html": [
       "<div>\n",
       "<style scoped>\n",
       "    .dataframe tbody tr th:only-of-type {\n",
       "        vertical-align: middle;\n",
       "    }\n",
       "\n",
       "    .dataframe tbody tr th {\n",
       "        vertical-align: top;\n",
       "    }\n",
       "\n",
       "    .dataframe thead th {\n",
       "        text-align: right;\n",
       "    }\n",
       "</style>\n",
       "<table border=\"1\" class=\"dataframe\">\n",
       "  <thead>\n",
       "    <tr style=\"text-align: right;\">\n",
       "      <th></th>\n",
       "      <th>START_DATE*</th>\n",
       "      <th>END_DATE*</th>\n",
       "      <th>CATEGORY*</th>\n",
       "      <th>START*</th>\n",
       "      <th>STOP*</th>\n",
       "      <th>MILES*</th>\n",
       "      <th>PURPOSE*</th>\n",
       "      <th>ROUND_TRIP*</th>\n",
       "      <th>DIFF</th>\n",
       "      <th>month</th>\n",
       "      <th>Year</th>\n",
       "      <th>Day</th>\n",
       "      <th>Hour</th>\n",
       "      <th>day_of_week</th>\n",
       "    </tr>\n",
       "  </thead>\n",
       "  <tbody>\n",
       "    <tr>\n",
       "      <th>0</th>\n",
       "      <td>2016-01-01 21:11:00</td>\n",
       "      <td>2016-01-01 21:17:00</td>\n",
       "      <td>Business</td>\n",
       "      <td>Fort Pierce</td>\n",
       "      <td>Fort Pierce</td>\n",
       "      <td>5.1</td>\n",
       "      <td>Meal/Entertain</td>\n",
       "      <td>YES</td>\n",
       "      <td>6.0</td>\n",
       "      <td>Jan</td>\n",
       "      <td>2016</td>\n",
       "      <td>1</td>\n",
       "      <td>21</td>\n",
       "      <td>Fri</td>\n",
       "    </tr>\n",
       "    <tr>\n",
       "      <th>2</th>\n",
       "      <td>2016-01-02 20:25:00</td>\n",
       "      <td>2016-01-02 20:38:00</td>\n",
       "      <td>Business</td>\n",
       "      <td>Fort Pierce</td>\n",
       "      <td>Fort Pierce</td>\n",
       "      <td>4.8</td>\n",
       "      <td>Errand/Supplies</td>\n",
       "      <td>YES</td>\n",
       "      <td>13.0</td>\n",
       "      <td>Jan</td>\n",
       "      <td>2016</td>\n",
       "      <td>2</td>\n",
       "      <td>20</td>\n",
       "      <td>Sat</td>\n",
       "    </tr>\n",
       "    <tr>\n",
       "      <th>3</th>\n",
       "      <td>2016-01-05 17:31:00</td>\n",
       "      <td>2016-01-05 17:45:00</td>\n",
       "      <td>Business</td>\n",
       "      <td>Fort Pierce</td>\n",
       "      <td>Fort Pierce</td>\n",
       "      <td>4.7</td>\n",
       "      <td>Meeting</td>\n",
       "      <td>YES</td>\n",
       "      <td>14.0</td>\n",
       "      <td>Jan</td>\n",
       "      <td>2016</td>\n",
       "      <td>5</td>\n",
       "      <td>17</td>\n",
       "      <td>Tue</td>\n",
       "    </tr>\n",
       "    <tr>\n",
       "      <th>4</th>\n",
       "      <td>2016-01-06 14:42:00</td>\n",
       "      <td>2016-01-06 15:49:00</td>\n",
       "      <td>Business</td>\n",
       "      <td>Fort Pierce</td>\n",
       "      <td>West Palm Beach</td>\n",
       "      <td>63.7</td>\n",
       "      <td>Customer Visit</td>\n",
       "      <td>NO</td>\n",
       "      <td>67.0</td>\n",
       "      <td>Jan</td>\n",
       "      <td>2016</td>\n",
       "      <td>6</td>\n",
       "      <td>14</td>\n",
       "      <td>Wed</td>\n",
       "    </tr>\n",
       "    <tr>\n",
       "      <th>5</th>\n",
       "      <td>2016-01-06 17:15:00</td>\n",
       "      <td>2016-01-06 17:19:00</td>\n",
       "      <td>Business</td>\n",
       "      <td>West Palm Beach</td>\n",
       "      <td>West Palm Beach</td>\n",
       "      <td>4.3</td>\n",
       "      <td>Meal/Entertain</td>\n",
       "      <td>YES</td>\n",
       "      <td>4.0</td>\n",
       "      <td>Jan</td>\n",
       "      <td>2016</td>\n",
       "      <td>6</td>\n",
       "      <td>17</td>\n",
       "      <td>Wed</td>\n",
       "    </tr>\n",
       "  </tbody>\n",
       "</table>\n",
       "</div>"
      ],
      "text/plain": [
       "          START_DATE*           END_DATE* CATEGORY*           START*  \\\n",
       "0 2016-01-01 21:11:00 2016-01-01 21:17:00  Business      Fort Pierce   \n",
       "2 2016-01-02 20:25:00 2016-01-02 20:38:00  Business      Fort Pierce   \n",
       "3 2016-01-05 17:31:00 2016-01-05 17:45:00  Business      Fort Pierce   \n",
       "4 2016-01-06 14:42:00 2016-01-06 15:49:00  Business      Fort Pierce   \n",
       "5 2016-01-06 17:15:00 2016-01-06 17:19:00  Business  West Palm Beach   \n",
       "\n",
       "             STOP*  MILES*         PURPOSE* ROUND_TRIP*  DIFF month  Year  \\\n",
       "0      Fort Pierce     5.1   Meal/Entertain         YES   6.0   Jan  2016   \n",
       "2      Fort Pierce     4.8  Errand/Supplies         YES  13.0   Jan  2016   \n",
       "3      Fort Pierce     4.7          Meeting         YES  14.0   Jan  2016   \n",
       "4  West Palm Beach    63.7   Customer Visit          NO  67.0   Jan  2016   \n",
       "5  West Palm Beach     4.3   Meal/Entertain         YES   4.0   Jan  2016   \n",
       "\n",
       "   Day  Hour day_of_week  \n",
       "0    1    21         Fri  \n",
       "2    2    20         Sat  \n",
       "3    5    17         Tue  \n",
       "4    6    14         Wed  \n",
       "5    6    17         Wed  "
      ]
     },
     "execution_count": 31,
     "metadata": {},
     "output_type": "execute_result"
    }
   ],
   "source": [
    "import calendar\n",
    "uber_df['month'] = uber_df['month'].apply(lambda x: calendar.month_abbr[x])\n",
    "uber_df.head()"
   ]
  },
  {
   "cell_type": "code",
   "execution_count": 32,
   "id": "b87e913f",
   "metadata": {},
   "outputs": [
    {
     "name": "stdout",
     "output_type": "stream",
     "text": [
      "Dec    134\n",
      "Feb     82\n",
      "Jun     73\n",
      "Mar     71\n",
      "Nov     60\n",
      "Jan     59\n",
      "Apr     50\n",
      "May     46\n",
      "Jul     46\n",
      "Oct     20\n",
      "Aug     12\n",
      "Name: month, dtype: int64\n",
      "Fri     125\n",
      "Tue      94\n",
      "Thur     92\n",
      "Sun      87\n",
      "Mon      87\n",
      "Wed      85\n",
      "Sat      83\n",
      "Name: day_of_week, dtype: int64\n"
     ]
    }
   ],
   "source": [
    "#Extract the total number of trips per month, weekday\n",
    "print(uber_df['month'].value_counts())\n",
    "print(uber_df['day_of_week'].value_counts())"
   ]
  },
  {
   "cell_type": "code",
   "execution_count": 33,
   "id": "ec35486f",
   "metadata": {},
   "outputs": [
    {
     "name": "stderr",
     "output_type": "stream",
     "text": [
      "F:\\Program Files\\anaconda\\lib\\site-packages\\seaborn\\_decorators.py:36: FutureWarning: Pass the following variable as a keyword arg: x. From version 0.12, the only valid positional argument will be `data`, and passing other arguments without an explicit keyword will result in an error or misinterpretation.\n",
      "  warnings.warn(\n"
     ]
    },
    {
     "data": {
      "image/png": "[encoded data removed]",
      "text/plain": [
       "<Figure size 864x504 with 1 Axes>"
      ]
     },
     "metadata": {
      "needs_background": "light"
     },
     "output_type": "display_data"
    }
   ],
   "source": [
    "plt.figure(figsize=(12,7))\n",
    "sns.countplot(uber_df['month'],order=pd.value_counts(uber_df['month']).index)\n",
    "plt.show()"
   ]
  },
  {
   "cell_type": "code",
   "execution_count": 34,
   "id": "eed4426a",
   "metadata": {},
   "outputs": [
    {
     "name": "stderr",
     "output_type": "stream",
     "text": [
      "F:\\Program Files\\anaconda\\lib\\site-packages\\seaborn\\_decorators.py:36: FutureWarning: Pass the following variable as a keyword arg: x. From version 0.12, the only valid positional argument will be `data`, and passing other arguments without an explicit keyword will result in an error or misinterpretation.\n",
      "  warnings.warn(\n"
     ]
    },
    {
     "data": {
      "image/png": "[encoded data removed]",
      "text/plain": [
       "<Figure size 864x504 with 1 Axes>"
      ]
     },
     "metadata": {
      "needs_background": "light"
     },
     "output_type": "display_data"
    }
   ],
   "source": [
    "plt.figure(figsize=(12,7))\n",
    "sns.countplot(uber_df['day_of_week'],order=pd.value_counts(uber_df['day_of_week']).index)\n",
    "plt.show()"
   ]
  },
  {
   "cell_type": "code",
   "execution_count": 35,
   "id": "2e094db8",
   "metadata": {},
   "outputs": [
    {
     "data": {
      "text/plain": [
       "month\n",
       "Oct    24.840000\n",
       "Apr    21.898000\n",
       "Mar    20.505634\n",
       "Jul    10.615217\n",
       "Nov    10.590000\n",
       "Feb     8.868293\n",
       "Jan     8.486441\n",
       "May     7.793478\n",
       "Jun     7.410959\n",
       "Aug     7.341667\n",
       "Dec     6.898507\n",
       "Name: MILES*, dtype: float64"
      ]
     },
     "execution_count": 35,
     "metadata": {},
     "output_type": "execute_result"
    }
   ],
   "source": [
    "#Getting the average distance covered per month\n",
    "uber_df.groupby('month').mean()['MILES*'].sort_values(ascending = False)"
   ]
  },
  {
   "cell_type": "code",
   "execution_count": 36,
   "id": "ca3b032e",
   "metadata": {},
   "outputs": [
    {
     "data": {
      "image/png": "[encoded data removed]",
      "text/plain": [
       "<Figure size 864x360 with 1 Axes>"
      ]
     },
     "metadata": {
      "needs_background": "light"
     },
     "output_type": "display_data"
    }
   ],
   "source": [
    "plt.figure(figsize=(12,5))\n",
    "uber_df.groupby('month').mean()['MILES*'].sort_values(ascending = False).plot.bar(color=['maroon','darksalmon','green','blue','yellow','teal'])\n",
    "plt.axhline(uber_df['MILES*'].mean(), linestyle='--', color='green', label='Mean distance')\n",
    "plt.legend()\n",
    "plt.show()"
   ]
  },
  {
   "cell_type": "code",
   "execution_count": 37,
   "id": "ddd61e00",
   "metadata": {},
   "outputs": [
    {
     "data": {
      "text/plain": [
       "13    55\n",
       "14    52\n",
       "17    51\n",
       "15    51\n",
       "18    51\n",
       "16    45\n",
       "20    45\n",
       "12    43\n",
       "11    39\n",
       "19    35\n",
       "21    34\n",
       "10    33\n",
       "9     26\n",
       "23    21\n",
       "22    21\n",
       "8     17\n",
       "0     13\n",
       "7      8\n",
       "1      4\n",
       "3      3\n",
       "5      3\n",
       "6      2\n",
       "2      1\n",
       "Name: Hour, dtype: int64"
      ]
     },
     "execution_count": 37,
     "metadata": {},
     "output_type": "execute_result"
    }
   ],
   "source": [
    "#Number of trips based of hour of day\n",
    "uber_df['Hour'].value_counts()"
   ]
  },
  {
   "cell_type": "code",
   "execution_count": 38,
   "id": "97efb4fa",
   "metadata": {},
   "outputs": [
    {
     "name": "stderr",
     "output_type": "stream",
     "text": [
      "F:\\Program Files\\anaconda\\lib\\site-packages\\seaborn\\_decorators.py:36: FutureWarning: Pass the following variable as a keyword arg: x. From version 0.12, the only valid positional argument will be `data`, and passing other arguments without an explicit keyword will result in an error or misinterpretation.\n",
      "  warnings.warn(\n"
     ]
    },
    {
     "data": {
      "image/png": "[encoded data removed]",
      "text/plain": [
       "<Figure size 864x504 with 1 Axes>"
      ]
     },
     "metadata": {
      "needs_background": "light"
     },
     "output_type": "display_data"
    }
   ],
   "source": [
    "plt.figure(figsize=(12,7))\n",
    "sns.countplot(uber_df['Hour'],order=pd.value_counts(uber_df['Hour']).index)\n",
    "plt.show()"
   ]
  },
  {
   "cell_type": "code",
   "execution_count": 39,
   "id": "c78b2cc7",
   "metadata": {},
   "outputs": [
    {
     "data": {
      "image/png": "[encoded data removed]",
      "text/plain": [
       "<Figure size 1440x720 with 1 Axes>"
      ]
     },
     "metadata": {
      "needs_background": "light"
     },
     "output_type": "display_data"
    }
   ],
   "source": [
    "\n",
    "plt.figure(figsize=(20,10))\n",
    "sns.countplot(data=uber_df, x=uber_df['Hour'], hue=uber_df['day_of_week'],\n",
    "              palette=\"Set1\", )\n",
    "plt.show()"
   ]
  },
  {
   "cell_type": "code",
   "execution_count": 40,
   "id": "475a0ad4",
   "metadata": {},
   "outputs": [
    {
     "name": "stderr",
     "output_type": "stream",
     "text": [
      "F:\\Program Files\\anaconda\\lib\\site-packages\\seaborn\\_decorators.py:36: FutureWarning: Pass the following variable as a keyword arg: x. From version 0.12, the only valid positional argument will be `data`, and passing other arguments without an explicit keyword will result in an error or misinterpretation.\n",
      "  warnings.warn(\n"
     ]
    },
    {
     "data": {
      "image/png": "[encoded data removed]",
      "text/plain": [
       "<Figure size 432x288 with 1 Axes>"
      ]
     },
     "metadata": {
      "needs_background": "light"
     },
     "output_type": "display_data"
    }
   ],
   "source": [
    "# Day Time or Night time \n",
    "a = pd.to_datetime(['18:00:00']).time\n",
    "uber_df['DAY/NIGHT*'] = uber_df.apply(lambda x : 'Night Ride' if x['START_DATE*'].time() > a else 'Day Ride', axis=1)\n",
    "sns.countplot(uber_df['DAY/NIGHT*'], palette='Set2' , order = uber_df['DAY/NIGHT*'].value_counts().index)\n",
    "plt.show()"
   ]
  },
  {
   "cell_type": "code",
   "execution_count": 41,
   "id": "ed09880d",
   "metadata": {},
   "outputs": [
    {
     "name": "stderr",
     "output_type": "stream",
     "text": [
      "F:\\Program Files\\anaconda\\lib\\site-packages\\seaborn\\_decorators.py:36: FutureWarning: Pass the following variable as a keyword arg: x. From version 0.12, the only valid positional argument will be `data`, and passing other arguments without an explicit keyword will result in an error or misinterpretation.\n",
      "  warnings.warn(\n"
     ]
    },
    {
     "data": {
      "image/png": "[encoded data removed]",
      "text/plain": [
       "<Figure size 648x504 with 1 Axes>"
      ]
     },
     "metadata": {
      "needs_background": "light"
     },
     "output_type": "display_data"
    }
   ],
   "source": [
    "plt.figure(figsize=(9,7))\n",
    "sns.countplot(uber_df['day_of_week'], hue=uber_df['DAY/NIGHT*'], palette='Set1' ,\n",
    "              order=uber_df['day_of_week'].value_counts().index)\n",
    "plt.show()"
   ]
  },
  {
   "cell_type": "code",
   "execution_count": 42,
   "id": "c304af98",
   "metadata": {},
   "outputs": [
    {
     "name": "stderr",
     "output_type": "stream",
     "text": [
      "F:\\Program Files\\anaconda\\lib\\site-packages\\seaborn\\_decorators.py:36: FutureWarning: Pass the following variable as a keyword arg: x. From version 0.12, the only valid positional argument will be `data`, and passing other arguments without an explicit keyword will result in an error or misinterpretation.\n",
      "  warnings.warn(\n"
     ]
    },
    {
     "data": {
      "image/png": "[encoded data removed]",
      "text/plain": [
       "<Figure size 720x432 with 1 Axes>"
      ]
     },
     "metadata": {
      "needs_background": "light"
     },
     "output_type": "display_data"
    }
   ],
   "source": [
    "m = {}\n",
    "\n",
    "for i in uber_df['MILES*']:\n",
    "    for i in uber_df['MILES*']:\n",
    "        if i < 10:\n",
    "            m.setdefault(i,'0-10 miles')\n",
    "        elif i >= 10 and i < 20:\n",
    "            m.setdefault(i,'10-20 miles')\n",
    "        elif i >= 20 and i < 30:\n",
    "            m.setdefault(i,'20-30 miles')\n",
    "        elif i >= 30 and i < 40:\n",
    "            m.setdefault(i,'30-40 miles')\n",
    "        elif i >= 40 and i < 50:\n",
    "            m.setdefault(i,'40-50 miles')\n",
    "        else:\n",
    "            m.setdefault(i,'Above 50 miles')\n",
    "            \n",
    "uber_df['MILES_BUCKET*'] = uber_df['MILES*'].map(m)\n",
    "\n",
    "plt.figure(figsize=(10,6))\n",
    "sns.countplot(uber_df['MILES_BUCKET*'], palette='Set1' ,\n",
    "              order = uber_df['MILES_BUCKET*'].value_counts().index)\n",
    "plt.show()"
   ]
  },
  {
   "cell_type": "code",
   "execution_count": 43,
   "id": "6351a9a2",
   "metadata": {},
   "outputs": [
    {
     "name": "stderr",
     "output_type": "stream",
     "text": [
      "F:\\Program Files\\anaconda\\lib\\site-packages\\seaborn\\_decorators.py:36: FutureWarning: Pass the following variable as a keyword arg: x. From version 0.12, the only valid positional argument will be `data`, and passing other arguments without an explicit keyword will result in an error or misinterpretation.\n",
      "  warnings.warn(\n"
     ]
    },
    {
     "data": {
      "image/png": "[encoded data removed]",
      "text/plain": [
       "<Figure size 720x504 with 1 Axes>"
      ]
     },
     "metadata": {
      "needs_background": "light"
     },
     "output_type": "display_data"
    }
   ],
   "source": [
    "plt.figure(figsize=(10,7))\n",
    "sns.countplot(uber_df['MILES_BUCKET*'], hue=uber_df['DAY/NIGHT*'], palette='cubehelix',\n",
    "              order = uber_df['MILES_BUCKET*'].value_counts().index)\n",
    "plt.show()"
   ]
  },
  {
   "cell_type": "code",
   "execution_count": 44,
   "id": "24fa923b",
   "metadata": {},
   "outputs": [
    {
     "data": {
      "text/plain": [
       "count    653.000000\n",
       "mean      25.261340\n",
       "std       16.815108\n",
       "min        6.000000\n",
       "25%       16.571429\n",
       "50%       22.285714\n",
       "75%       29.100000\n",
       "max      228.000000\n",
       "Name: Speed_KM, dtype: float64"
      ]
     },
     "execution_count": 44,
     "metadata": {},
     "output_type": "execute_result"
    }
   ],
   "source": [
    "# calculate trip speed for each trip\n",
    "uber_df['Duration_hours'] = uber_df['DIFF'] / 60\n",
    "uber_df['Speed_KM'] = uber_df['MILES*'] / uber_df['Duration_hours']\n",
    "uber_df['Speed_KM'].describe()"
   ]
  }
 ],
 "metadata": {
  "kernelspec": {
   "display_name": "Python 3 (ipykernel)",
   "language": "python",
   "name": "python3"
  },
  "language_info": {
   "codemirror_mode": {
    "name": "ipython",
    "version": 3
   },
   "file_extension": ".py",
   "mimetype": "text/x-python",
   "name": "python",
   "nbconvert_exporter": "python",
   "pygments_lexer": "ipython3",
   "version": "3.9.12"
  }
 },
 "nbformat": 4,
 "nbformat_minor": 5
}
